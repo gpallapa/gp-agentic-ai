{
 "cells": [
  {
   "cell_type": "code",
   "execution_count": 9,
   "id": "b3ee0825",
   "metadata": {},
   "outputs": [],
   "source": [
    "# Import the necessary libraries\n",
    "\n",
    "from agents import Agent, WebSearchTool, trace, Runner, gen_trace_id, function_tool\n",
    "from agents.model_settings import ModelSettings\n",
    "from pydantic import BaseModel, Field\n",
    "from dotenv import load_dotenv\n",
    "import asyncio\n",
    "import os\n",
    "import sendgrid\n",
    "from sendgrid.helpers.mail import Mail, Email, To, Content\n",
    "from typing import Dict\n",
    "from IPython.display import display, Markdown"
   ]
  },
  {
   "cell_type": "code",
   "execution_count": 2,
   "id": "a8a544f8",
   "metadata": {},
   "outputs": [
    {
     "data": {
      "text/plain": [
       "True"
      ]
     },
     "execution_count": 2,
     "metadata": {},
     "output_type": "execute_result"
    }
   ],
   "source": [
    "# Load environment variables\n",
    "\n",
    "load_dotenv(override=True)"
   ]
  },
  {
   "cell_type": "markdown",
   "id": "5e2dfb2a",
   "metadata": {},
   "source": [
    "## OpenAI Hosted Tools\n",
    "\n",
    "OpenAI Agents SDK includes the following hosted tools:\n",
    "\n",
    "The `WebSearchTool` lets an agent search the web.  \n",
    "The `FileSearchTool` allows retrieving information from your OpenAI Vector Stores.  \n",
    "The `ComputerTool` allows automating computer use tasks like taking screenshots and clicking.\n",
    "\n",
    "### Important note - API charge of WebSearchTool\n",
    "\n",
    "This is costing me 2.5 cents per call for OpenAI WebSearchTool.\n",
    "\n",
    "Costs are here: https://platform.openai.com/docs/pricing#web-search"
   ]
  },
  {
   "cell_type": "code",
   "execution_count": 5,
   "id": "6a8b90a3",
   "metadata": {},
   "outputs": [],
   "source": [
    "# Create the search agent\n",
    "\n",
    "INSTRUCTIONS = \"You are an experienced research assistant. Given a search term, you can easily and deftly search the web for that term and \\\n",
    "produce a concise summary of the results. The summary must be 2-3 paragraphs and less than 500 \\\n",
    "words. Capture the main points and be as thorough and insightful as possible. Write succintly and crisply, no need to have complete sentences or good \\\n",
    "grammar. Your tone is formal, professional, and authoritative. This will be consumed by someone synthesizing a report, \\\n",
    "so it's vital you capture the essence and ignore any fluff. Do not include any additional commentary other than the summary itself.\\\n",
    "Do not use any flowery language or any other words that are not necessary.\"\n",
    "\n",
    "search_agent = Agent(\n",
    "    name=\"Search agent\",\n",
    "    instructions=INSTRUCTIONS,\n",
    "    tools=[WebSearchTool(search_context_size=\"low\")],\n",
    "    model=\"gpt-4o-mini\",\n",
    "    model_settings=ModelSettings(tool_choice=\"required\"), # This is important to ensure that the agent must use the tools. Mandatory usage!\n",
    "    )"
   ]
  },
  {
   "cell_type": "code",
   "execution_count": 6,
   "id": "3b234396",
   "metadata": {},
   "outputs": [
    {
     "data": {
      "text/markdown": [
       "As of July 2025, several AI agent frameworks have emerged, each offering unique capabilities for developing intelligent, autonomous systems.\n",
       "\n",
       "**AutoGen**: An open-source framework by Microsoft, AutoGen facilitates the orchestration of multiple AI agents, enabling both autonomous and semi-autonomous workflows. It allows for dynamic collaboration among agents, with human intervention when necessary, making it suitable for tasks like collaborative problem-solving and code generation. However, its complexity may present a steep learning curve for newcomers. ([medium.com](https://medium.com/bridgged-generative-ai-strategy-hub/the-top-5-ai-agent-frameworks-to-watch-in-2025-bridgged-a9092f095d32?utm_source=openai))\n",
       "\n",
       "**CrewAI**: This lightweight Python framework emphasizes role-based agent design, inspired by human team dynamics. CrewAI enables the creation of agents with distinct roles and capabilities, fostering effective collaboration. It's ideal for workflows requiring structured teamwork, such as marketing strategy automation and project management. While powerful, it may be complex for non-technical users. ([medium.com](https://medium.com/bridgged-generative-ai-strategy-hub/the-top-5-ai-agent-frameworks-to-watch-in-2025-bridgged-a9092f095d32?utm_source=openai))\n",
       "\n",
       "**LangGraph**: Built upon LangChain, LangGraph offers a stateful execution environment for complex, multi-step workflows. Its ability to maintain state throughout a process is beneficial for applications needing persistence and error recovery, such as customer support systems and fraud detection. The framework's graph-based architecture supports dynamic decision-making and agent interactions. ([medium.com](https://medium.com/bridgged-generative-ai-strategy-hub/the-top-5-ai-agent-frameworks-to-watch-in-2025-bridgged-a9092f095d32?utm_source=openai))\n",
       "\n",
       "**LlamaIndex**: An open-source data orchestration framework, LlamaIndex is designed for developing generative AI and AI agent solutions. It features ready-to-use agents and tools, along with workflows that enable the development of multi-agent systems. LlamaIndex streamlines context augmentation for generative AI use cases by utilizing a Retrieval-Augmented Generation (RAG) pipeline, integrating multiple tools and functionalities to simplify the development process. ([antiersolutions.com](https://www.antiersolutions.com/blogs/top-ai-agent-frameworks-to-watch-in-2025-a-complete-guide/?utm_source=openai))\n",
       "\n",
       "**Eliza**: A Web3-friendly AI agent operating system, Eliza integrates seamlessly with web3 applications, allowing for the deployment of AI agents that interact with blockchain data and smart contracts. It emphasizes user control and stability, providing a robust platform for developing decentralized AI applications. ([arxiv.org](https://arxiv.org/abs/2501.06781?utm_source=openai))\n",
       "\n",
       "**AutoAgent**: A fully-automated, zero-code framework for Large Language Model (LLM) agents, AutoAgent enables users to create and deploy LLM agents through natural language alone. It operates as an autonomous agent operating system, comprising components like Agentic System Utilities and a Self-Managing File System, facilitating efficient and dynamic creation and modification of tools, agents, and workflows without coding requirements. ([arxiv.org](https://arxiv.org/abs/2502.05957?utm_source=openai))\n",
       "\n",
       "**AgentLite**: A lightweight library for building and advancing task-oriented LLM agent systems, AgentLite simplifies the process of creating and evaluating new reasoning strategies and agent architectures. It offers a user-friendly platform for innovating LLM agent reasoning, architectures, and applications, enhancing the ability of agents to break down tasks and facilitating the development of multi-agent systems. ([arxiv.org](https://arxiv.org/abs/2402.15538?utm_source=openai))\n",
       "\n",
       "These frameworks represent the forefront of AI agent development, each contributing to the evolution of intelligent, autonomous systems across various applications. "
      ],
      "text/plain": [
       "<IPython.core.display.Markdown object>"
      ]
     },
     "metadata": {},
     "output_type": "display_data"
    }
   ],
   "source": [
    "message = \"Latest AI Agent frameworks in 2025\"\n",
    "\n",
    "with trace(\"Search\"):\n",
    "    result = await Runner.run(search_agent, message)\n",
    "\n",
    "display(Markdown(result.final_output))"
   ]
  },
  {
   "cell_type": "markdown",
   "id": "fa02404c",
   "metadata": {},
   "source": [
    "### Trace available at\n",
    "\n",
    "https://platform.openai.com/traces"
   ]
  },
  {
   "cell_type": "code",
   "execution_count": 12,
   "id": "87a006dd",
   "metadata": {},
   "outputs": [],
   "source": [
    "# Now lets create a planner agent and use more of structured outputs\n",
    "\n",
    "HOW_MANY_SEARCHES = 3\n",
    "\n",
    "INSTRUCTIONS = f\"You are a helpful research assistant. Given a query, come up with a set of web searches \\\n",
    "to perform to best answer the query. Output {HOW_MANY_SEARCHES} terms to query for.\"\n",
    "\n",
    "# Use Pydantic to define the Schema of our response \n",
    "\n",
    "class WebSearchItem(BaseModel):\n",
    "    reason: str = Field(\n",
    "        description=\"Your reasoning for why this search is important to the query.\"\n",
    "    )\n",
    "\n",
    "    query: str = Field(\n",
    "        description=\"The search term to use for the web search.\"\n",
    "    )\n",
    "\n",
    "\n",
    "class WebSearchPlan(BaseModel):\n",
    "    searches: list[WebSearchItem] = Field(\n",
    "        description=\"A list of web searches to perform to best answer the query.\"\n",
    "    )\n",
    "\n",
    "\n",
    "planner_agent = Agent(\n",
    "    name=\"PlannerAgent\",\n",
    "    instructions=INSTRUCTIONS,\n",
    "    model=\"gpt-4o-mini\",\n",
    "    output_type=WebSearchPlan, # Force the output to be a WebSearchPlan instead of markdown\n",
    ")"
   ]
  },
  {
   "cell_type": "code",
   "execution_count": 18,
   "id": "6c820db1",
   "metadata": {},
   "outputs": [
    {
     "name": "stdout",
     "output_type": "stream",
     "text": [
      "searches=[WebSearchItem(reason='To find updated information on AI agent frameworks released or popular in 2025.', query='latest AI agent frameworks 2025'), WebSearchItem(reason='To gather insights from industry reports or tech articles discussing trends in AI agent frameworks for 2025.', query='AI agent frameworks trends 2025'), WebSearchItem(reason='To explore specific frameworks that have gained traction among developers and researchers in 2025.', query='popular AI agent frameworks 2025')]\n"
     ]
    }
   ],
   "source": [
    "message = \"Latest AI Agent frameworks in 2025\"\n",
    "\n",
    "with trace(\"Deep Research Agent\"):\n",
    "    result = await Runner.run(planner_agent, message)\n",
    "    print(result.final_output)"
   ]
  },
  {
   "cell_type": "code",
   "execution_count": 21,
   "id": "16dd9709",
   "metadata": {},
   "outputs": [],
   "source": [
    "@function_tool\n",
    "def send_email(subject: str, html_body: str) -> Dict[str, str]:\n",
    "    \"\"\" Send out an email with the given subject and HTML body to all sales prospects \"\"\"\n",
    "    sg = sendgrid.SendGridAPIClient(api_key=os.environ.get('SENDGRID_API_KEY'))\n",
    "    from_email = Email(\"gpallapa@pm.me\")  # Change to your verified sender\n",
    "    to_email = To(\"gautham.pallapa@gmail.com\")  # Change to your recipient\n",
    "    content = Content(\"text/html\", html_body)\n",
    "    mail = Mail(from_email, to_email, subject, content).get()\n",
    "    response = sg.client.mail.send.post(request_body=mail)\n",
    "    return {\"status\": \"success\"}"
   ]
  },
  {
   "cell_type": "code",
   "execution_count": 23,
   "id": "2038f7f4",
   "metadata": {},
   "outputs": [],
   "source": [
    "# Create the email agent\n",
    "\n",
    "INSTRUCTIONS = \"\"\"You are able to send a nicely formatted HTML email based on a detailed report.\n",
    "You will be provided with a detailed report. You should use your tool to send one email, providing the \n",
    "report converted into clean, well presented HTML with an appropriate subject line.\"\"\"\n",
    "\n",
    "email_agent = Agent(\n",
    "    name=\"Email agent\",\n",
    "    instructions=INSTRUCTIONS,\n",
    "    tools=[send_email],\n",
    "    model=\"gpt-4o-mini\",\n",
    ")"
   ]
  },
  {
   "cell_type": "code",
   "execution_count": 25,
   "id": "9a32d9de",
   "metadata": {},
   "outputs": [],
   "source": [
    "INSTRUCTIONS = (\n",
    "    \"You are a senior researcher tasked with writing a cohesive report for a research query. \"\n",
    "    \"You will be provided with the original query, and some initial research done by a research assistant.\\n\"\n",
    "    \"You should first come up with an outline for the report that describes the structure and \"\n",
    "    \"flow of the report. Then, generate the report and return that as your final output.\\n\"\n",
    "    \"The final output should be in markdown format, and it should be lengthy and detailed. Aim \"\n",
    "    \"for 5-10 pages of content, at least 1000 words.\"\n",
    ")\n",
    "\n",
    "class ReportData(BaseModel):\n",
    "    short_summary: str = Field(description=\"A short 2-3 sentence summary of the findings.\")\n",
    "\n",
    "    markdown_report: str = Field(description=\"The final report\")\n",
    "\n",
    "    follow_up_questions: list[str] = Field(description=\"Suggested topics to research further\")\n",
    "\n",
    "\n",
    "writer_agent = Agent(\n",
    "    name=\"WriterAgent\",\n",
    "    instructions=INSTRUCTIONS,\n",
    "    model=\"gpt-4o-mini\",\n",
    "    output_type=ReportData,\n",
    ")"
   ]
  },
  {
   "cell_type": "code",
   "execution_count": 26,
   "id": "f2f0f74d",
   "metadata": {},
   "outputs": [],
   "source": [
    "# Plan and execute the search\n",
    "\n",
    "async def plan_search(search_query: str):\n",
    "    \"\"\" Use the planner agent to plan which searches to run for the query \"\"\"\n",
    "    print(\"Planning searches...\")\n",
    "    result = await Runner.run(planner_agent, f\"Query: {search_query}\")\n",
    "    print(f\"Will perform {len(result.final_output.searches)} searches\")\n",
    "    return result.final_output\n",
    "\n",
    "async def perform_searches(search_plan: WebSearchPlan):\n",
    "    \"\"\" Call search() for each search in the search plan \"\"\"\n",
    "    print(\"Performing searches...\")\n",
    "    num_completed = 0\n",
    "    tasks = [asyncio.create_task(search(item)) for item in search_plan.searches]\n",
    "    results = await asyncio.gather(*tasks)\n",
    "    print(f\"Completed {num_completed} searches\")\n",
    "    return results\n",
    "\n",
    "async def search(search_item: WebSearchItem):\n",
    "    \"\"\" Use the search agent to run a web search for each item in the search plan \"\"\"\n",
    "    input = f\"Search term: {search_item.query}\\n\\nReason for searching: {search_item.reason}\"\n",
    "    result = await Runner.run(search_agent, input)\n",
    "    return result.final_output"
   ]
  },
  {
   "cell_type": "code",
   "execution_count": 27,
   "id": "925679c9",
   "metadata": {},
   "outputs": [],
   "source": [
    "# These two functions will write a report based on the search results and email it to the user\n",
    "\n",
    "async def write_report(query: str, search_results: list[str]):\n",
    "    \"\"\" Use the writer agent to write a report based on the search results \"\"\"\n",
    "    print(\"Thinking and compiling the report...\")\n",
    "    input = f\"Original query: {query}\\nSummarized results: {search_results}\"\n",
    "    result = await Runner.run(writer_agent, input)\n",
    "    print(\"Finished writing the report\")\n",
    "    return result.final_output\n",
    "\n",
    "async def send_email(report: ReportData):\n",
    "    \"\"\" Use the email agent to email the report to the user \"\"\"\n",
    "    print(\"Emailing report...\")\n",
    "    result = await Runner.run(email_agent, report.markdown_report)\n",
    "    print(\"Email sent\")\n",
    "    return report"
   ]
  },
  {
   "cell_type": "code",
   "execution_count": 28,
   "id": "234b1025",
   "metadata": {},
   "outputs": [
    {
     "name": "stdout",
     "output_type": "stream",
     "text": [
      "Query provided: Latest Ai Agent frameworks in 2025\n",
      "Starting research...\n",
      "Planning searches...\n",
      "Will perform 3 searches\n",
      "Performing searches...\n",
      "Completed 0 searches\n",
      "Thinking and compiling the report...\n",
      "Finished writing the report\n",
      "Emailing report...\n",
      "Email sent\n",
      "Research complete\n"
     ]
    }
   ],
   "source": [
    "query = \"Latest Ai Agent frameworks in 2025\"\n",
    "\n",
    "with trace(\"Research trace\"):\n",
    "    print(f\"Query provided: {query}\")\n",
    "    print(\"Starting research...\")\n",
    "    search_plan = await plan_search(query)\n",
    "\n",
    "    search_results = await perform_searches(search_plan)\n",
    "\n",
    "    report = await write_report(query, search_results)\n",
    "\n",
    "    await send_email(report)\n",
    "\n",
    "    print(\"Research complete\")"
   ]
  }
 ],
 "metadata": {
  "kernelspec": {
   "display_name": ".venv",
   "language": "python",
   "name": "python3"
  },
  "language_info": {
   "codemirror_mode": {
    "name": "ipython",
    "version": 3
   },
   "file_extension": ".py",
   "mimetype": "text/x-python",
   "name": "python",
   "nbconvert_exporter": "python",
   "pygments_lexer": "ipython3",
   "version": "3.13.2"
  }
 },
 "nbformat": 4,
 "nbformat_minor": 5
}
