{
 "cells": [
  {
   "cell_type": "code",
   "execution_count": 27,
   "id": "cfe1c722",
   "metadata": {},
   "outputs": [],
   "source": [
    "# import the necessary libraries\n",
    "\n",
    "from dotenv import load_dotenv\n",
    "from openai import OpenAI\n",
    "from PyPDF2 import PdfReader\n",
    "import gradio as gr\n",
    "from IPython.display import Markdown\n"
   ]
  },
  {
   "cell_type": "code",
   "execution_count": 2,
   "id": "1ef5cf31",
   "metadata": {},
   "outputs": [],
   "source": [
    "# initialize the environment and client\n",
    "\n",
    "load_dotenv(override=True)\n",
    "\n",
    "openai_client = OpenAI()"
   ]
  },
  {
   "cell_type": "code",
   "execution_count": 12,
   "id": "80be8c2f",
   "metadata": {},
   "outputs": [
    {
     "name": "stdout",
     "output_type": "stream",
     "text": [
      "   \n",
      "Contact\n",
      "gautham.pallapa@gmail.com\n",
      "www.linkedin.com/in/gpallapa\n",
      "(LinkedIn)\n",
      "etransforms.com  (Personal)\n",
      "transformity.info/blog  (Blog)\n",
      "Top Skills\n",
      "Technology Management\n",
      "IT Transformation\n",
      "Strategic Leadership\n",
      "Certifications\n",
      "Certified SAFe® 5 Agilist\n",
      "Digital Business Transformation\n",
      "Management\n",
      "Lean Six Sigma Black Belt\n",
      "Agile Coach (ICP - ACC)\n",
      "Career Essentials in Generative AI\n",
      "by Microsoft and LinkedIn\n",
      "Honors-Awards\n",
      "2023 Global Leadership Institute\n",
      "Award\n",
      "2022 Global Leadership Institute\n",
      "Award\n",
      "2023 Nautilus Award\n",
      "2023 Book Excellence Award\n",
      "2021 Outstanding Mentor Award\n",
      "Publications\n",
      "Adaptive and Context-Aware Privacy\n",
      "Preservation Schemes Exploiting\n",
      "User Interactions in Pervasive\n",
      "Environments\n",
      "A Smart Agent based Audio\n",
      "Authentication Scheme in Ad Hoc\n",
      "Wireless Networks\n",
      "User-centric Situation Prediction in\n",
      "Ubiquitous Computing Environments\n",
      "Privacy Infusion in Ubiquitous\n",
      "Computing\n",
      "A Middleware Framework for\n",
      "Ambiguous Context Mediation in\n",
      "Smart Healthcare ApplicationsGautham Pallapa, Ph. D.\n",
      "Technology Executive | Cloud, Data & AI Leader | Driving Strategic\n",
      "Innovation, Operational Excellence, & Outcome-focused Business\n",
      "Growth | Award-winning author | Keynote speaker\n",
      "San Francisco Bay Area\n",
      "Summary\n",
      "Visionary executive with over 20 years of leadership experience\n",
      "in cloud, data, and AI, driving strategic innovation, operational\n",
      "excellence, and measurable business outcomes. I partner with\n",
      "Fortune 1000 companies to align technology with business goals,\n",
      "delivering significant value through AI-powered solutions, cloud\n",
      "modernization, and data-driven insights. As the award-winning\n",
      "author of   , I believe that empathy is a cornerstone of successful\n",
      "leadership.\n",
      "✅ $1.2B in revenue generated through cloud-native applications, data\n",
      "solutions, and platform engineering.\n",
      "✅ Spearheaded AI-driven initiatives that boosted developer\n",
      "productivity by 37% and reduced time-to-market by 30%.\n",
      "✅ Led mission-critical workloads (911, crisis management) and\n",
      "cloud platforms, ensuring 5 9’s reliability and improving operational\n",
      "efficiency by 40%.\n",
      "✅ Built and transformed global product and engineering\n",
      "organizations, increasing profitability by 34% and throughput by\n",
      "45%.\n",
      "✅ Implemented data governance, DevSecOps, and advanced\n",
      "analytics frameworks, saving $20.4MM and securing 173% ROI\n",
      "across key enterprises.\n",
      "With a focus on cloud strategy, AI/ML-driven solutions, and business\n",
      "value creation, I specialize in turning complex challenges into\n",
      "opportunities for growth. My leadership philosophy is rooted in\n",
      "empathy, enabling me to build high-performing teams, foster\n",
      "  Page 1 of 5   \n",
      "Patents\n",
      "Emergency Communication Service\n",
      "for Mobile Devices\n",
      "Conference Call Direct Access\n",
      "Context Aware Subscriber Service\n",
      "Communication Session Scheduling\n",
      "Queuecollaboration, and create technology solutions that drive business\n",
      "success and elevate the human experience. \n",
      "• Technology Strategy | Cloud Native Apps | AI/ML Process\n",
      "Optimization\n",
      "• Platform Engineering | Global Teams | Digital Strategy & Innovation\n",
      "• Data Analytics & Engineering | DevSecOps | Enterprise\n",
      "Architecture\n",
      "• Business Innovation | Customer Experience | Revenue Growth\n",
      "• Risk Mitigation | Cybersecurity | IT Governance\n",
      "• Strategic Alliances | Emerging Technologies | System Engineering\n",
      "• Change Management | Program Management | Budgeting &\n",
      "Planning\n",
      "• Technical Debt | IT Operations | Global Systems\n",
      "• Policies & Compliance (HIPAA, PCI-DSS, GDPR, HL7 FHIR)\n",
      "• Cloud Native: AWS, Azure, VMware, Cloud Foundry, GCP, Tanzu,\n",
      "Kubernetes, Docker, Containers\n",
      "• AI & ML: TensorFlow, Sagemaker, Pandas, CVaaS, LLMs,\n",
      "Langchain, RAG, VectorDBs\n",
      "• Data & Analytics: Snowflake, Databricks, Tableau, RabbitMQ, SAP,\n",
      "Oracle, Kafka, DataStax\n",
      "• Development & Platforms: GitHub, WSO2, Spring, Python, SFDC\n",
      "• Observability: DevSecOps Tools, Backstage, Observability Tools\n",
      "Experience\n",
      "Scotiabank\n",
      "Principal Director, Cloud, Data, and AI\n",
      "2025 - Present  (less than a year)\n",
      "Innominds\n",
      "Senior Vice President, Cloud, Data, and AI\n",
      "2024 - 2025  (1 year)\n",
      "• Leading cross-functional teams to deliver cutting-edge cloud, data, and AI\n",
      "solutions that drive operational excellence and achieve strategic business\n",
      "outcomes.\n",
      "  Page 2 of 5   \n",
      "• Spearheading high-impact partnerships that expanded market reach, driving\n",
      "a 20% increase in sales through AI-driven solutions.\n",
      "• Continuously developing AI-powered real-time insights and chatbots across\n",
      "retail, healthcare, racing, construction, automotive, and BFSI verticals,\n",
      "optimizing demand pricing, product performance, and strategic decision-\n",
      "making in fast-paced environments.\n",
      "VMware\n",
      "5 years\n",
      "Senior Executive Advisor | Global CIO\n",
      "2021 - 2024  (3 years)\n",
      "San Francisco Bay Area\n",
      "• Partnered with Fortune 500 companies to drive AI/ML-driven initiatives,\n",
      "enhancing developer productivity by 37% and reducing time-to-market by 30%\n",
      "across global enterprises. \n",
      "• Developed and executed 26+ digital strategies that delivered multimillion-\n",
      "dollar savings, achieving an average ROI of 143% through cloud-native\n",
      "technologies and platform engineering. \n",
      "• Implemented DevSecOps and data governance frameworks, saving\n",
      "$20.4MM on average and securing a 173% ROI, while improving\n",
      "organizational efficiency and alignment with business goals.\n",
      "• Led platform engineering and application modernization efforts that increased\n",
      "platform stability by 29% and improved business outcomes across multiple\n",
      "industries.\n",
      "Director, Platform Architecture | Modern Applications & Cloud Platforms\n",
      "| Field CTO\n",
      "2019 - 2021  (2 years)\n",
      "• Led cloud-native architecture and platform engineering teams, reducing sales\n",
      "cycles by 7 months and driving a 16% increase in revenue through optimized\n",
      "Go-To-Market strategies.\n",
      "• Boosted productivity by 56% and efficiency by 37% across financial services,\n",
      "retail, and hospitality, shortening production cycles by 88% during the\n",
      "COVID-19 pandemic.\n",
      "• Spearheaded application modernization initiatives that improved speed to\n",
      "delivery by 32%, reduced COGS by 14%, and increased customer satisfaction\n",
      "by 24%.\n",
      "Intrado\n",
      "9 years\n",
      "  Page 3 of 5   \n",
      "Vice President of Technology | Head of Engineering & Data\n",
      "2017 - 2019  (2 years)\n",
      "• Led mission-critical workloads (911, conferencing, crisis management),\n",
      "improving response times and operational efficiency by 40% through AI/ML-\n",
      "powered optimization and anomaly detection.\n",
      "• Transformed the data organization by rearchitecting data flows, building data\n",
      "lakes, and introducing predictive analytics and big data solutions, boosting\n",
      "decision-making and operational efficiency by 30%.\n",
      "• Consolidated 28 data centers into 8 core centers, realizing $12.5MM in\n",
      "annual savings and enhancing compliance and security.\n",
      "• Spearheaded a hybrid cloud and DevSecOps strategy, cutting time-to-market\n",
      "by 46% across six products and improving delivery timelines by 5 weeks.\n",
      "• Achieved a 38% reduction in operating expenses and decreased schedule\n",
      "variance to under 12% across 23 products, enhancing visibility and\n",
      "performance.\n",
      "Director of Information Technology\n",
      "2010 - 2017  (7 years)\n",
      "Terra Nova\n",
      "Chief Product Officer | Co-Founder\n",
      "2017 - 2019  (2 years)\n",
      "The University of Texas at Arlington\n",
      "6 years\n",
      "Principal Healthcare Technology Innovator | Digital Healthcare\n",
      "Transformation Expert, AI & IoT\n",
      "2004 - 2010  (6 years)\n",
      "Championed healthcare technology innovation and technology transformation\n",
      "in areas of privacy, security, remote telemedicine, and smart technologies.\n",
      "Expertise in developing AI-driven privacy frameworks and scalable\n",
      "interoperability solutions that significantly improved patient experiences.\n",
      "Lead Instructor\n",
      "2005 - 2009  (4 years)\n",
      "Cisco\n",
      "Information Technology Consultant\n",
      "2007 - 2008  (1 year)\n",
      "  Page 4 of 5   \n",
      "Education\n",
      "University of California, Berkeley, Haas School of Business\n",
      "Digital Transformation, Leading People, Data & Technology  · (2020)\n",
      "Columbia Business School\n",
      "Digital Transformation in Healthcare   · (May 2022)\n",
      "The University of Texas at Arlington\n",
      "Ph. D, Computer Science\n",
      "Jawaharlal Nehru University\n",
      "Master’s Degree, Computer Science\n",
      "R. V. College of Engineering, Bangalore\n",
      "Bachelor’s Degree, Electrical and Electronics\n",
      "  Page 5 of 5\n"
     ]
    }
   ],
   "source": [
    "# read in the linkedin profile\n",
    "\n",
    "reader = PdfReader(\"me/linkedin.pdf\")\n",
    "linkedin = \"\"\n",
    "\n",
    "for page in reader.pages:\n",
    "    text = page.extract_text()\n",
    "    if text:\n",
    "        linkedin += text\n",
    "\n",
    "print(linkedin)\n"
   ]
  },
  {
   "cell_type": "code",
   "execution_count": 13,
   "id": "11e8f071",
   "metadata": {},
   "outputs": [
    {
     "name": "stdout",
     "output_type": "stream",
     "text": [
      "My name is Gautham Pallapa. I am a visionary executive with over 20 years of leadership experience in cloud, data, and AI, driving strategic innovation, operational excellence, and measurable business outcomes. I partner with Fortune 1000 companies to align technology with business goals, delivering significant value through AI-powered solutions, cloud modernization, and data-driven insights. As the award-winning author of \"Leading with Empathy\", I believe that empathy is a cornerstone of successful leadership. I am also the author of \"Mastering Enterprise Platform Engineering\". I used to live in the San Francisco Bay Area. I live in the Greater Toronto Area now. \n"
     ]
    }
   ],
   "source": [
    "with open(\"me/summary.txt\", \"r\", encoding=\"utf-8\") as file:\n",
    "    summary = file.read()\n",
    "\n",
    "print(summary)"
   ]
  },
  {
   "cell_type": "code",
   "execution_count": 16,
   "id": "ef398d85",
   "metadata": {},
   "outputs": [],
   "source": [
    "name = \"Gautham Pallapa\""
   ]
  },
  {
   "cell_type": "code",
   "execution_count": 17,
   "id": "d1c11768",
   "metadata": {},
   "outputs": [],
   "source": [
    "system_prompt = f\"You are acting as {name}. You are answering questions on {name}'s website, \\\n",
    "particularly questions related to {name}'s career, background, skills and experience. \\\n",
    "Your responsibility is to represent {name} for interactions on the website as faithfully as possible. \\\n",
    "You are given a summary of {name}'s background and LinkedIn profile which you can use to answer questions. \\\n",
    "Be professional and engaging, as if talking to a potential client or future employer who came across the website. \\\n",
    "If you don't know the answer, say so.\"\n",
    "\n",
    "system_prompt += f\"\\n\\n## Summary:\\n{summary}\\n\\n## LinkedIn Profile:\\n{linkedin}\\n\\n\"\n",
    "system_prompt += f\"With this context, please chat with the user, always staying in character as {name}.\""
   ]
  },
  {
   "cell_type": "code",
   "execution_count": null,
   "id": "7e9d0aa6",
   "metadata": {},
   "outputs": [],
   "source": [
    "print(system_prompt)"
   ]
  },
  {
   "cell_type": "code",
   "execution_count": 21,
   "id": "7c5842a6",
   "metadata": {},
   "outputs": [],
   "source": [
    "def chat(message, history):\n",
    "    messages = [{\"role\": \"system\", \"content\": system_prompt}] + history + [{\"role\": \"user\", \"content\": message}]\n",
    "    response = openai_client.chat.completions.create(\n",
    "        model=\"gpt-4o-mini\",\n",
    "        messages=messages\n",
    "    )\n",
    "    return response.choices[0].message.content"
   ]
  },
  {
   "cell_type": "code",
   "execution_count": 22,
   "id": "6d7669a0",
   "metadata": {},
   "outputs": [
    {
     "name": "stdout",
     "output_type": "stream",
     "text": [
      "* Running on local URL:  http://127.0.0.1:7860\n",
      "* To create a public link, set `share=True` in `launch()`.\n"
     ]
    },
    {
     "data": {
      "text/html": [
       "<div><iframe src=\"http://127.0.0.1:7860/\" width=\"100%\" height=\"500\" allow=\"autoplay; camera; microphone; clipboard-read; clipboard-write;\" frameborder=\"0\" allowfullscreen></iframe></div>"
      ],
      "text/plain": [
       "<IPython.core.display.HTML object>"
      ]
     },
     "metadata": {},
     "output_type": "display_data"
    },
    {
     "data": {
      "text/plain": []
     },
     "execution_count": 22,
     "metadata": {},
     "output_type": "execute_result"
    }
   ],
   "source": [
    "gr.ChatInterface(chat, type=\"messages\").launch()\n"
   ]
  },
  {
   "cell_type": "markdown",
   "id": "cf6a39a4",
   "metadata": {},
   "source": [
    "## What I am going to do next...\n",
    "\n",
    "1. Ask an LLM to evaluate an answer\n",
    "2. Rerun if the answer fails evaluation\n",
    "3. Put this together into 1 workflow\n",
    "\n",
    "This will currently not use any agentic framework."
   ]
  },
  {
   "cell_type": "code",
   "execution_count": 23,
   "id": "ff97f4fc",
   "metadata": {},
   "outputs": [],
   "source": [
    "# Create a Pydantic model for the Evaluation\n",
    "\n",
    "from pydantic import BaseModel\n",
    "\n",
    "class Evaluation(BaseModel):\n",
    "    is_acceptable: bool\n",
    "    feedback: str"
   ]
  },
  {
   "cell_type": "code",
   "execution_count": 24,
   "id": "ef8f306d",
   "metadata": {},
   "outputs": [],
   "source": [
    "evaluator_system_prompt = f\"You are an evaluator that decides whether a response to a question is acceptable. \\\n",
    "You are provided with a conversation between a User and an Agent. Your task is to decide whether the Agent's latest response is acceptable quality. \\\n",
    "The Agent is playing the role of {name} and is representing {name} on their website. \\\n",
    "The Agent has been instructed to be professional and engaging, as if talking to a potential client or future employer who came across the website. \\\n",
    "The Agent has been provided with context on {name} in the form of their summary and LinkedIn details. Here's the information:\"\n",
    "\n",
    "evaluator_system_prompt += f\"\\n\\n## Summary:\\n{summary}\\n\\n## LinkedIn Profile:\\n{linkedin}\\n\\n\"\n",
    "evaluator_system_prompt += f\"With this context, please evaluate the latest response, replying with whether the response is acceptable and your feedback.\""
   ]
  },
  {
   "cell_type": "code",
   "execution_count": 29,
   "id": "dccf6524",
   "metadata": {},
   "outputs": [],
   "source": [
    "# display(Markdown(evaluator_system_prompt))"
   ]
  },
  {
   "cell_type": "code",
   "execution_count": 30,
   "id": "2c6dad5e",
   "metadata": {},
   "outputs": [],
   "source": [
    "def evaluator_user_prompt(reply, message, history):\n",
    "    user_prompt = f\"Here's the conversation between the User and the Agent: \\n\\n{history}\\n\\n\"\n",
    "    user_prompt += f\"Here's the latest message from the User: \\n\\n{message}\\n\\n\"\n",
    "    user_prompt += f\"Here's the latest response from the Agent: \\n\\n{reply}\\n\\n\"\n",
    "    user_prompt += \"Please evaluate the response, replying with whether it is acceptable and your feedback.\"\n",
    "    return user_prompt"
   ]
  },
  {
   "cell_type": "code",
   "execution_count": 41,
   "id": "e480b8e6",
   "metadata": {},
   "outputs": [],
   "source": [
    "# Set up the Gemini client\n",
    "\n",
    "import os\n",
    "\n",
    "from openai import api_key\n",
    "gemini_client = OpenAI(\n",
    "    api_key=os.getenv(\"GOOGLE_API_KEY\"), \n",
    "    base_url=\"https://generativelanguage.googleapis.com/v1beta/openai/\"\n",
    ")"
   ]
  },
  {
   "cell_type": "code",
   "execution_count": 38,
   "id": "0e017f47",
   "metadata": {},
   "outputs": [],
   "source": [
    "def evaluate(reply, message, history) -> Evaluation:\n",
    "\n",
    "    messages = [{\"role\": \"system\", \"content\": evaluator_system_prompt}] + [{\"role\": \"user\", \"content\": evaluator_user_prompt(reply, message, history)}]\n",
    "    response = gemini_client.beta.chat.completions.parse(\n",
    "        model=\"gemini-2.0-flash\", \n",
    "        messages=messages, \n",
    "        response_format=Evaluation)\n",
    "    return response.choices[0].message.parsed"
   ]
  },
  {
   "cell_type": "code",
   "execution_count": 35,
   "id": "2ebb7a26",
   "metadata": {},
   "outputs": [],
   "source": [
    "messages = [{\"role\": \"system\", \"content\": system_prompt}] + [{\"role\": \"user\", \"content\": \"do you hold a patent?\"}]\n",
    "response = openai_client.chat.completions.create(\n",
    "    model=\"gpt-4o-mini\", \n",
    "    messages=messages\n",
    ")\n",
    "reply = response.choices[0].message.content"
   ]
  },
  {
   "cell_type": "code",
   "execution_count": 42,
   "id": "c54d8c67",
   "metadata": {},
   "outputs": [
    {
     "data": {
      "text/plain": [
       "Evaluation(is_acceptable=True, feedback=\"This is an acceptable response. It directly answers the user's question with information that is present on the provided LinkedIn profile. The agent also provides context and offers to elaborate on the answer, following the instructions given.\")"
      ]
     },
     "execution_count": 42,
     "metadata": {},
     "output_type": "execute_result"
    }
   ],
   "source": [
    "evaluate(reply, \"do you hold a patent?\", messages[:1])"
   ]
  },
  {
   "cell_type": "code",
   "execution_count": null,
   "id": "c2d5875f",
   "metadata": {},
   "outputs": [],
   "source": [
    "def rerun(reply, message, history, feedback):\n",
    "    updated_system_prompt = system_prompt + \"\\n\\n## Previous answer rejected\\nYou just tried to reply, but the quality control rejected your reply\\n\"\n",
    "    updated_system_prompt += f\"## Your attempted answer:\\n{reply}\\n\\n\"\n",
    "    updated_system_prompt += f\"## Reason for rejection:\\n{feedback}\\n\\n\"\n",
    "    \n",
    "    messages = [{\"role\": \"system\", \"content\": updated_system_prompt}] + history + [{\"role\": \"user\", \"content\": message}]\n",
    "    response = openai_client.chat.completions.create(model=\"gpt-4o-mini\", messages=messages)\n",
    "    return response.choices[0].message.content"
   ]
  },
  {
   "cell_type": "code",
   "execution_count": 52,
   "id": "d5c3ebc3",
   "metadata": {},
   "outputs": [
    {
     "name": "stdout",
     "output_type": "stream",
     "text": [
      "Passed evaluation - returning reply\n"
     ]
    }
   ],
   "source": [
    "def chat(message, history):\n",
    "    if \"pineapple\" in message:\n",
    "        system = system_prompt + \"\\n\\nEverything in your reply needs to be in pig latin - \\\n",
    "              it is mandatory that you respond only and entirely in pig latin\"\n",
    "    else:\n",
    "        system = system_prompt\n",
    "    messages = [{\"role\": \"system\", \"content\": system}] + history + [{\"role\": \"user\", \"content\": message}]\n",
    "    response = openai_client.chat.completions.create(model=\"gpt-4o-mini\", messages=messages)\n",
    "    reply =response.choices[0].message.content\n",
    "\n",
    "    evaluation = evaluate(reply, message, history)\n",
    "    \n",
    "    if evaluation.is_acceptable:\n",
    "        print(\"Passed evaluation - returning reply\")\n",
    "    else:\n",
    "        print(\"Failed evaluation - retrying\")\n",
    "        print(evaluation.feedback)\n",
    "        reply = rerun(reply, message, history, evaluation.feedback)       \n",
    "    return reply"
   ]
  },
  {
   "cell_type": "code",
   "execution_count": null,
   "id": "a8c8fec4",
   "metadata": {},
   "outputs": [
    {
     "name": "stdout",
     "output_type": "stream",
     "text": [
      "* Running on local URL:  http://127.0.0.1:7862\n",
      "* To create a public link, set `share=True` in `launch()`.\n"
     ]
    },
    {
     "data": {
      "text/html": [
       "<div><iframe src=\"http://127.0.0.1:7862/\" width=\"100%\" height=\"500\" allow=\"autoplay; camera; microphone; clipboard-read; clipboard-write;\" frameborder=\"0\" allowfullscreen></iframe></div>"
      ],
      "text/plain": [
       "<IPython.core.display.HTML object>"
      ]
     },
     "metadata": {},
     "output_type": "display_data"
    },
    {
     "data": {
      "text/plain": []
     },
     "execution_count": 51,
     "metadata": {},
     "output_type": "execute_result"
    },
    {
     "name": "stdout",
     "output_type": "stream",
     "text": [
      "Passed evaluation - returning reply\n",
      "Failed evaluation - retrying\n",
      "The response is not acceptable. The Agent is supposed to be representing Gautham Pallapa in a professional and engaging way. The response uses pig latin, which is unprofessional. \n"
     ]
    }
   ],
   "source": [
    "gr.ChatInterface(chat, type=\"messages\").launch()"
   ]
  }
 ],
 "metadata": {
  "kernelspec": {
   "display_name": ".venv",
   "language": "python",
   "name": "python3"
  },
  "language_info": {
   "codemirror_mode": {
    "name": "ipython",
    "version": 3
   },
   "file_extension": ".py",
   "mimetype": "text/x-python",
   "name": "python",
   "nbconvert_exporter": "python",
   "pygments_lexer": "ipython3",
   "version": "3.12.9"
  }
 },
 "nbformat": 4,
 "nbformat_minor": 5
}
