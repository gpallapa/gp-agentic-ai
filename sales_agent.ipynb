{
 "cells": [
  {
   "cell_type": "code",
   "execution_count": 15,
   "id": "b0f1f51e",
   "metadata": {},
   "outputs": [],
   "source": [
    "# Import the necessary libraries\n",
    "\n",
    "from dotenv import load_dotenv\n",
    "from agents import Agent, Runner, trace, function_tool\n",
    "from openai.types.responses import ResponseTextDeltaEvent\n",
    "from typing import Dict\n",
    "import sendgrid\n",
    "import os\n",
    "from sendgrid.helpers.mail import Mail, Email, To, Content\n",
    "import asyncio\n",
    "from IPython.display import Markdown, display"
   ]
  },
  {
   "cell_type": "code",
   "execution_count": 2,
   "id": "103bdfee",
   "metadata": {},
   "outputs": [
    {
     "data": {
      "text/plain": [
       "True"
      ]
     },
     "execution_count": 2,
     "metadata": {},
     "output_type": "execute_result"
    }
   ],
   "source": [
    "# Initialize the environment\n",
    "\n",
    "load_dotenv(override=True)"
   ]
  },
  {
   "cell_type": "code",
   "execution_count": null,
   "id": "14bee45b",
   "metadata": {},
   "outputs": [
    {
     "name": "stdout",
     "output_type": "stream",
     "text": [
      "202\n"
     ]
    }
   ],
   "source": [
    "# Let's just check emails are working for us\n",
    "\n",
    "# def send_test_email():\n",
    "#     sg = sendgrid.SendGridAPIClient(api_key=os.environ.get('SENDGRID_API_KEY'))\n",
    "#     from_email = Email(\"gpallapa@pm.me\")  # Change to sendgrid's verified sender\n",
    "#     to_email = To(\"gpallapa@pm.me\")  # Change to the recipient\n",
    "#     content = Content(\"text/plain\", \"This is an important test email\")\n",
    "#     mail = Mail(from_email, to_email, \"Test email\", content).get()\n",
    "#     response = sg.client.mail.send.post(request_body=mail)\n",
    "#     print(response.status_code)\n",
    "\n",
    "# send_test_email()\n",
    "\n",
    "# If we receive a 202, we know the email was sent successfully"
   ]
  },
  {
   "cell_type": "code",
   "execution_count": 6,
   "id": "aa4a5c6d",
   "metadata": {},
   "outputs": [],
   "source": [
    "# Lets create the instructions for the sales agent\n",
    "\n",
    "instructions1 = \"You are a sales agent working for BeansAI, \\\n",
    "a company that provides global investment banking and wealth management services, powered by AI. \\\n",
    "You write professional, serious cold emails.\"\n",
    "\n",
    "instructions2 = \"You are a humorous, engaging sales agent working for BeansAI, \\\n",
    "a company that provides global investment banking and wealth management services, powered by AI. \\\n",
    "You write witty, engaging cold emails that are likely to get a response.\"\n",
    "\n",
    "instructions3 = \"You are a busy sales agent working for BeansAI, \\\n",
    "a company that provides global investment banking and wealth management services, powered by AI. \\\n",
    "You write concise, to the point cold emails.\""
   ]
  },
  {
   "cell_type": "code",
   "execution_count": 7,
   "id": "084a5adc",
   "metadata": {},
   "outputs": [],
   "source": [
    "# Lets create the agents each with different personas\n",
    "\n",
    "sales_agent1 = Agent(\n",
    "    name=\"Professional Sales Agent 1\",\n",
    "    instructions=instructions1,\n",
    "    model=\"gpt-4o-mini\"\n",
    ")\n",
    "\n",
    "sales_agent2 = Agent(\n",
    "    name=\"Engaging Sales Agent 2\",\n",
    "    instructions=instructions2,\n",
    "    model=\"gpt-4o-mini\"\n",
    ")\n",
    "\n",
    "sales_agent3 = Agent(\n",
    "    name=\"Busy Sales Agent 3\",\n",
    "    instructions=instructions3,\n",
    "    model=\"gpt-4o-mini\"\n",
    ")"
   ]
  },
  {
   "cell_type": "code",
   "execution_count": null,
   "id": "eba87145",
   "metadata": {},
   "outputs": [],
   "source": [
    "# Approach if we want to stream the response\n",
    "\n",
    "# result = Runner.run_streamed(sales_agent1, input=\"Write a cold sales email\")\n",
    "# async for event in result.stream_events():\n",
    "#     if event.type == \"raw_response_event\" and isinstance(event.data, ResponseTextDeltaEvent):\n",
    "#         print(event.data.delta, end=\"\", flush=True)"
   ]
  },
  {
   "cell_type": "code",
   "execution_count": 10,
   "id": "bf72eff3",
   "metadata": {},
   "outputs": [
    {
     "name": "stdout",
     "output_type": "stream",
     "text": [
      "Subject: Unlock Your Investment Potential with AI-Powered Insights\n",
      "\n",
      "Dear [Recipient's Name],\n",
      "\n",
      "I hope this message finds you well.\n",
      "\n",
      "I am reaching out to introduce you to BeansAI, where we leverage advanced artificial intelligence to redefine the landscape of investment banking and wealth management. Our innovative solutions are designed to enhance decision-making processes, optimize portfolio management, and ultimately drive superior outcomes for our clients.\n",
      "\n",
      "In an era where data-driven insights are paramount, our AI technology empowers investors like you to stay ahead of market trends and capitalize on emerging opportunities. Whether your focus is on maximizing returns, managing risk, or exploring new investment avenues, BeansAI provides tailored strategies to align with your specific goals.\n",
      "\n",
      "Here are a few ways we can support your investment journey:\n",
      "\n",
      "1. **Predictive Analytics**: Our AI algorithms analyze vast amounts of data to forecast market movements, giving you a strategic edge.\n",
      "2. **Portfolio Optimization**: We create customized portfolios that reflect your risk appetite and financial objectives while enhancing diversification.\n",
      "3. **Real-Time Insights**: Stay informed with actionable insights delivered at your fingertips, ensuring you can make informed decisions swiftly.\n",
      "\n",
      "I would welcome the opportunity to discuss how BeansAI can add value to your investment strategies. Please let me know a convenient time for you to connect.\n",
      "\n",
      "Thank you for considering this opportunity. I look forward to assisting you in achieving your financial objectives.\n",
      "\n",
      "Best regards,\n",
      "\n",
      "[Your Name]  \n",
      "[Your Title]  \n",
      "BeansAI  \n",
      "[Your Phone Number]  \n",
      "[Your Email Address]  \n",
      "[Your Company Website]  \n",
      "\n",
      "\n",
      "Subject: Ready to Bean Up Your Investment Game? ☕️🚀\n",
      "\n",
      "Hi [Recipient's Name],\n",
      "\n",
      "I hope this email doesn’t find you knee-deep in spreadsheets or dodging endless Zoom calls! I wanted to take a quick moment to introduce you to BeansAI, where we believe that sophisticated wealth management should be as smooth as your morning coffee.\n",
      "\n",
      "Picture this: a world where your financial decisions are backed by the power of AI (no, not the kind that takes over the world). Our platform combines cutting-edge technology with global investment banking savvy to help you achieve your financial nirvana.\n",
      "\n",
      "Whether you're looking to optimize your portfolio, explore alternative investments, or just want to know how to make your money work harder than you do, we’ve got the beans to make it happen!\n",
      "\n",
      "Let’s schedule a quick 15-minute chat. Who knows, you might just find the caffeinated spark you need to supercharge your investment strategy!\n",
      "\n",
      "Looking forward to connecting,  \n",
      "[Your Name]  \n",
      "[Your Job Title]  \n",
      "BeansAI – Where the only thing we take seriously is your growth! ☕️💼  \n",
      "[Your Contact Information]  \n",
      "\n",
      "P.S. I promise not to use the word “synergy” – at least not today!\n",
      "\n",
      "\n",
      "Subject: Elevate Your Investment Strategy with AI\n",
      "\n",
      "Hi [Recipient's Name],\n",
      "\n",
      "I hope this message finds you well. I’m [Your Name] from BeansAI, where we leverage cutting-edge AI to enhance investment banking and wealth management services.\n",
      "\n",
      "Our advanced analytics can help you identify lucrative opportunities while optimizing risk management. \n",
      "\n",
      "Would you be open to a brief call next week to discuss how we can support your financial goals? \n",
      "\n",
      "Best regards,  \n",
      "[Your Name]  \n",
      "[Your Position]  \n",
      "BeansAI  \n",
      "[Your Contact Information]  \n",
      "\n",
      "\n"
     ]
    }
   ],
   "source": [
    "message = \"Write a cold sales email\"\n",
    "\n",
    "with trace(\"Parallel cold emails\"):\n",
    "    results = await asyncio.gather(\n",
    "        Runner.run(sales_agent1, input=message),\n",
    "        Runner.run(sales_agent2, input=message),\n",
    "        Runner.run(sales_agent3, input=message)\n",
    "    )\n",
    "\n",
    "    outputs = [result.final_output for result in results]\n",
    "\n",
    "    for output in outputs:\n",
    "        print(output + \"\\n\\n\")\n",
    "    \n"
   ]
  },
  {
   "cell_type": "code",
   "execution_count": 11,
   "id": "b4c0cf45",
   "metadata": {},
   "outputs": [],
   "source": [
    "# Create a sales picker agent which picks the best sales agent based on the input\n",
    "\n",
    "sales_picker = Agent(\n",
    "    name=\"sales_picker\",\n",
    "    instructions=\"You pick the best cold sales email from the given options. \\\n",
    "Imagine you are a customer and pick the one you are most likely to respond to. \\\n",
    "Do not give an explanation; reply with the selected email only.\",\n",
    "    model=\"gpt-4o-mini\"\n",
    ")"
   ]
  },
  {
   "cell_type": "code",
   "execution_count": 17,
   "id": "98462d60",
   "metadata": {},
   "outputs": [
    {
     "name": "stdout",
     "output_type": "stream",
     "text": [
      "Best sales email to use: \n",
      "\n",
      "Subject: Elevate Your Wealth with Intelligent Insights\n",
      "\n",
      "Dear [Recipient's Name],\n",
      "\n",
      "I hope this email finds you in great spirits! I wanted to take a moment to introduce you to something that could elevate your wealth management experience to new heights.\n",
      "\n",
      "At BeansAI, we understand that managing wealth is not just about numbers—it's about crafting your legacy. Our AI-powered investment banking and wealth management services are designed to transform your investment journey, providing intelligent insights that make a tangible difference to your portfolio.\n",
      "\n",
      "Imagine having a dedicated team of cutting-edge algorithms analyzing market trends, identifying investment opportunities, and optimizing your wealth strategy while you enjoy a well-deserved round of golf (or whatever your leisure pursuit may be!). Our technology enables us to tailor solutions specifically to your needs, ensuring that your financial aspirations are not just met, but exceeded.\n",
      "\n",
      "Here are a few benefits that make our services truly remarkable:\n",
      "\n",
      "1. **Data-Driven Decisions**: Our AI analyzes vast amounts of data, delivering insights that human intuition might miss. It’s like having a crystal ball, but with a much better internet connection!\n",
      "   \n",
      "2. **Personalized Investment Strategies**: We recognize that no two millionaires are alike. Our tailored solutions cater specifically to your financial goals and risk tolerance.\n",
      "\n",
      "3. **Real-time Insights**: Our platform provides you with real-time updates, so you're never out of the loop—unless, of course, you’re on a private yacht!\n",
      "\n",
      "4. **Sustainable Growth**: We prioritize investments that not only serve your financial goals but also contribute positively to the world.\n",
      "\n",
      "If you're ready to revolutionize your investment journey and explore the powerful potential of AI in wealth management, I would love to schedule a time for a conversation. You can also learn more about our innovative approach on our website: [BeansAI](https://www.beansai.com).\n",
      "\n",
      "Thank you for considering BeansAI as your partner in achieving exceptional financial success. I look forward to the possibility of working together to grow your wealth.\n",
      "\n",
      "Warm regards,\n",
      "\n",
      "[Your Name]  \n",
      "[Your Title]  \n",
      "BeansAI  \n",
      "[Your Phone Number]  \n",
      "[Your Email]  \n"
     ]
    }
   ],
   "source": [
    "# Now use the sales picker agent to pick the best sales agent based on the input\n",
    "\n",
    "message = \"Write a cold sales email touting the benefits of our AI-powered investment banking and wealth management services. \\\n",
    "    Be formal and professional at all times. You are emailing millionaires and High Net Worth Individuals who are interested in investing in our services, \\\n",
    "        and so you will be a brand ambassador for the company. \\\n",
    "            For our company's website, you can use the following URL: https://www.beansai.com in your email outreach.\"\n",
    "\n",
    "with trace(\"Call the various sales agents in parallel and pick the best one\"):\n",
    "    results = await asyncio.gather(\n",
    "        Runner.run(sales_agent1, input=message),\n",
    "        Runner.run(sales_agent2, input=message),\n",
    "        Runner.run(sales_agent3, input=message)\n",
    "    )\n",
    "\n",
    "    outputs = [result.final_output for result in results]\n",
    "\n",
    "    # Consolidate all the emails into a single email\n",
    "    consolidated_emails = \"Cold sales emails:\\n\\n\".join(outputs)\n",
    "\n",
    "    # Pick the best one using the sales picker agent\n",
    "    best_email = await Runner.run(sales_picker, consolidated_emails)\n",
    "\n",
    "    print(f\"Best sales email to use: \\n\\n{best_email.final_output}\")\n",
    "    "
   ]
  },
  {
   "cell_type": "code",
   "execution_count": 18,
   "id": "d5b9840f",
   "metadata": {},
   "outputs": [
    {
     "data": {
      "text/markdown": [
       "Subject: Elevate Your Wealth with Intelligent Insights\n",
       "\n",
       "Dear [Recipient's Name],\n",
       "\n",
       "I hope this email finds you in great spirits! I wanted to take a moment to introduce you to something that could elevate your wealth management experience to new heights.\n",
       "\n",
       "At BeansAI, we understand that managing wealth is not just about numbers—it's about crafting your legacy. Our AI-powered investment banking and wealth management services are designed to transform your investment journey, providing intelligent insights that make a tangible difference to your portfolio.\n",
       "\n",
       "Imagine having a dedicated team of cutting-edge algorithms analyzing market trends, identifying investment opportunities, and optimizing your wealth strategy while you enjoy a well-deserved round of golf (or whatever your leisure pursuit may be!). Our technology enables us to tailor solutions specifically to your needs, ensuring that your financial aspirations are not just met, but exceeded.\n",
       "\n",
       "Here are a few benefits that make our services truly remarkable:\n",
       "\n",
       "1. **Data-Driven Decisions**: Our AI analyzes vast amounts of data, delivering insights that human intuition might miss. It’s like having a crystal ball, but with a much better internet connection!\n",
       "   \n",
       "2. **Personalized Investment Strategies**: We recognize that no two millionaires are alike. Our tailored solutions cater specifically to your financial goals and risk tolerance.\n",
       "\n",
       "3. **Real-time Insights**: Our platform provides you with real-time updates, so you're never out of the loop—unless, of course, you’re on a private yacht!\n",
       "\n",
       "4. **Sustainable Growth**: We prioritize investments that not only serve your financial goals but also contribute positively to the world.\n",
       "\n",
       "If you're ready to revolutionize your investment journey and explore the powerful potential of AI in wealth management, I would love to schedule a time for a conversation. You can also learn more about our innovative approach on our website: [BeansAI](https://www.beansai.com).\n",
       "\n",
       "Thank you for considering BeansAI as your partner in achieving exceptional financial success. I look forward to the possibility of working together to grow your wealth.\n",
       "\n",
       "Warm regards,\n",
       "\n",
       "[Your Name]  \n",
       "[Your Title]  \n",
       "BeansAI  \n",
       "[Your Phone Number]  \n",
       "[Your Email]  "
      ],
      "text/plain": [
       "<IPython.core.display.Markdown object>"
      ]
     },
     "metadata": {},
     "output_type": "display_data"
    }
   ],
   "source": [
    "display(Markdown(best_email.final_output))"
   ]
  },
  {
   "cell_type": "code",
   "execution_count": null,
   "id": "d404b4d1",
   "metadata": {},
   "outputs": [],
   "source": [
    "# Now send the best email to the user\n",
    "\n",
    "# Create a SendGrid client\n",
    "# sg = sendgrid.SendGridAPIClient(api_key=os.environ.get('SENDGRID_API_KEY'))\n",
    "\n",
    "# # Create a Mail object\n",
    "# mail = Mail(\n",
    "#     from_email=Email(\"gpallapa@pm.me\"),\n",
    "#     to_emails=To(\"gpallapa@pm.me\"),\n",
    "#     subject=\"Test Email\",\n",
    "#     html_content=best_email.final_output\n",
    "# )"
   ]
  },
  {
   "cell_type": "code",
   "execution_count": 68,
   "id": "5135753e",
   "metadata": {},
   "outputs": [],
   "source": [
    "# Create a function tool to send an email\n",
    "\n",
    "# @function_tool\n",
    "# def send_email(body: str):\n",
    "#     \"\"\"\n",
    "#     Send an email with the given body to all sales prospects\n",
    "#     \"\"\"\n",
    "#     sg = sendgrid.SendGridAPIClient(api_key=os.environ.get('SENDGRID_API_KEY'))\n",
    "\n",
    "#     from_email = Email(\"gpallapa@pm.me\")\n",
    "#     to_emails = To(\"gpallapa@pm.me\")\n",
    "    \n",
    "\n",
    "#     # Now strip out the subject from the response\n",
    "#     lines = body.split('\\n', 1)\n",
    "#     subject = lines[0].replace('Subject: ', '') if lines[0].startswith('Subject:') else 'BeansAI Sales Email'\n",
    "#     body = lines[1].strip() if len(lines) > 1 else body\n",
    "#     content = Content(\"text/plain\", body)\n",
    "\n",
    "#     print(f\"Subject: {subject}\\n\\nBody: {content}\")\n",
    "\n",
    "#     mail = Mail(from_email, to_emails, subject, content).get()\n",
    "\n",
    "#     response = sg.client.mail.send.post(request_body=mail)\n",
    "\n",
    "#     if response.status_code == 202:\n",
    "#         return \"Email sent successfully\"\n",
    "#     else:\n",
    "#         return \"Email failed to send\"\n",
    "\n",
    "\n",
    "@function_tool\n",
    "def send_email(body: str):\n",
    "    \"\"\" Send out an email with the given body to all sales prospects \"\"\"\n",
    "    sg = sendgrid.SendGridAPIClient(api_key=os.environ.get('SENDGRID_API_KEY'))\n",
    "    from_email = Email(\"gpallapa@pm.me\")  \n",
    "    to_email = To(\"gautham.pallapa@scotiabank.com\")  \n",
    "\n",
    "    # Now strip out the subject from the response\n",
    "    lines = body.split('\\n', 1)\n",
    "    subject = lines[0].replace('Subject: ', '') if lines[0].startswith('Subject:') else 'BeansAI Sales Email'\n",
    "    body = lines[1].strip() if len(lines) > 1 else body\n",
    "    content = Content(\"text/plain\", body)\n",
    "\n",
    "    # print(f\"Subject: {subject}\\n\\nBody: {content}\")\n",
    "\n",
    "    mail = Mail(from_email, to_email, subject, content).get()\n",
    "\n",
    "    sg.client.mail.send.post(request_body=mail)\n",
    "    return {\"status\": \"success\"}"
   ]
  },
  {
   "cell_type": "code",
   "execution_count": 60,
   "id": "50aa01c4",
   "metadata": {},
   "outputs": [
    {
     "data": {
      "text/plain": [
       "[FunctionTool(name='sales_agent1', description='A sales agent that writes professional, serious cold emails', params_json_schema={'properties': {'input': {'title': 'Input', 'type': 'string'}}, 'required': ['input'], 'title': 'sales_agent1_args', 'type': 'object', 'additionalProperties': False}, on_invoke_tool=<function function_tool.<locals>._create_function_tool.<locals>._on_invoke_tool at 0x110ba9440>, strict_json_schema=True, is_enabled=True),\n",
       " FunctionTool(name='sales_agent2', description='A sales agent that writes witty, engaging cold emails', params_json_schema={'properties': {'input': {'title': 'Input', 'type': 'string'}}, 'required': ['input'], 'title': 'sales_agent2_args', 'type': 'object', 'additionalProperties': False}, on_invoke_tool=<function function_tool.<locals>._create_function_tool.<locals>._on_invoke_tool at 0x110baa020>, strict_json_schema=True, is_enabled=True),\n",
       " FunctionTool(name='sales_agent3', description='A sales agent that writes concise, to the point cold emails', params_json_schema={'properties': {'input': {'title': 'Input', 'type': 'string'}}, 'required': ['input'], 'title': 'sales_agent3_args', 'type': 'object', 'additionalProperties': False}, on_invoke_tool=<function function_tool.<locals>._create_function_tool.<locals>._on_invoke_tool at 0x110baa340>, strict_json_schema=True, is_enabled=True),\n",
       " FunctionTool(name='send_email', description='Send out an email with the given body to all sales prospects', params_json_schema={'properties': {'body': {'title': 'Body', 'type': 'string'}}, 'required': ['body'], 'title': 'send_email_args', 'type': 'object', 'additionalProperties': False}, on_invoke_tool=<function function_tool.<locals>._create_function_tool.<locals>._on_invoke_tool at 0x110fff060>, strict_json_schema=True, is_enabled=True)]"
      ]
     },
     "execution_count": 60,
     "metadata": {},
     "output_type": "execute_result"
    }
   ],
   "source": [
    "# Create the sales agents as tools\n",
    "\n",
    "\n",
    "tool1 = sales_agent1.as_tool(tool_name=\"sales_agent1\", tool_description=\"A sales agent that writes professional, serious cold emails\")\n",
    "tool2 = sales_agent2.as_tool(tool_name=\"sales_agent2\", tool_description=\"A sales agent that writes witty, engaging cold emails\")\n",
    "tool3 = sales_agent3.as_tool(tool_name=\"sales_agent3\", tool_description=\"A sales agent that writes concise, to the point cold emails\")\n",
    "\n",
    "tools = [tool1, tool2, tool3, send_email]\n",
    "\n",
    "tools"
   ]
  },
  {
   "cell_type": "code",
   "execution_count": 65,
   "id": "52aff680",
   "metadata": {},
   "outputs": [
    {
     "name": "stdout",
     "output_type": "stream",
     "text": [
      "The cold sales email has been successfully sent to \"Dear CEO.\" If you need anything else, feel free to ask!\n"
     ]
    }
   ],
   "source": [
    "# Now create a Sales Manager agent - the planning agent that uses the sales agents as tools and picks the best one\n",
    "\n",
    "instructions =\"You are a sales manager working for BeansAI. You use the tools given to you to generate cold sales emails. \\\n",
    "You never generate sales emails yourself; you always use the tools. \\\n",
    "You try all 3 sales_agent tools once before choosing the best one. \\\n",
    "You pick the single best email and use the send_email tool to send the best email (and only the best email) to the user.\"\n",
    "\n",
    "\n",
    "sales_manager = Agent(name=\"Sales Manager\", instructions=instructions, tools=tools, model=\"gpt-4o-mini\")\n",
    "\n",
    "message = \"Send a cold sales email addressed to 'Dear CEO'\"\n",
    "\n",
    "with trace(\"Sales manager\"):\n",
    "    result = await Runner.run(sales_manager, message)\n",
    "    print(result.final_output)"
   ]
  },
  {
   "cell_type": "code",
   "execution_count": 79,
   "id": "107bc801",
   "metadata": {},
   "outputs": [],
   "source": [
    "\n",
    "subject_instructions = \"You can write a subject for a cold sales email. \\\n",
    "You are given a message and you need to write a subject for an email that is likely to get a response.\"\n",
    "\n",
    "html_instructions = \"You can convert a text email body to an HTML email body. \\\n",
    "You are given a text email body which might have some markdown \\\n",
    "and you need to convert it to an HTML email body with simple, clear, compelling layout and design.\"\n",
    "\n",
    "subject_writer = Agent(name=\"Email subject writer\", instructions=subject_instructions, model=\"gpt-4o-mini\")\n",
    "subject_tool = subject_writer.as_tool(tool_name=\"subject_writer\", tool_description=\"Write a subject for a cold sales email\")\n",
    "\n",
    "html_converter = Agent(name=\"HTML email body converter\", instructions=html_instructions, model=\"gpt-4o-mini\")\n",
    "html_tool = html_converter.as_tool(tool_name=\"html_converter\",tool_description=\"Convert a text email body to an HTML email body\")\n"
   ]
  },
  {
   "cell_type": "code",
   "execution_count": 91,
   "id": "dc467f48",
   "metadata": {},
   "outputs": [],
   "source": [
    "@function_tool\n",
    "def send_html_email(subject: str, html_body: str) -> Dict[str, str]:\n",
    "    \"\"\" Send out an email with the given subject and HTML body to all sales prospects \"\"\"\n",
    "    sg = sendgrid.SendGridAPIClient(api_key=os.environ.get('SENDGRID_API_KEY'))\n",
    "    from_email = Email(\"gpallapa@pm.me\")  \n",
    "    to_email = To(\"gautham.pallapa@gmail.com\") \n",
    "    content = Content(\"text/html\", html_body)\n",
    "    mail = Mail(from_email, to_email, subject, content).get()\n",
    "    sg.client.mail.send.post(request_body=mail)\n",
    "    \n",
    "    return {\"status\": \"success\"}"
   ]
  },
  {
   "cell_type": "code",
   "execution_count": 81,
   "id": "ef017961",
   "metadata": {},
   "outputs": [],
   "source": [
    "tools = [subject_tool, html_tool, send_html_email]"
   ]
  },
  {
   "cell_type": "code",
   "execution_count": 83,
   "id": "03d7e0af",
   "metadata": {},
   "outputs": [],
   "source": [
    "instructions =\"You are an email formatter and sender. You receive the body of an email to be sent. \\\n",
    "You first use the subject_writer tool to write a subject for the email, then use the html_converter tool to convert the body to HTML. \\\n",
    "Finally, you use the send_html_email tool to send the email with the subject and HTML body.\"\n",
    "\n",
    "\n",
    "emailer_agent = Agent(\n",
    "    name=\"Email Manager\",\n",
    "    instructions=instructions,\n",
    "    tools=tools,\n",
    "    model=\"gpt-4o-mini\",\n",
    "    handoff_description=\"Convert an email to HTML and send it\")"
   ]
  },
  {
   "cell_type": "code",
   "execution_count": 84,
   "id": "c3c6e943",
   "metadata": {},
   "outputs": [
    {
     "name": "stdout",
     "output_type": "stream",
     "text": [
      "[FunctionTool(name='sales_agent1', description='A sales agent that writes professional, serious cold emails', params_json_schema={'properties': {'input': {'title': 'Input', 'type': 'string'}}, 'required': ['input'], 'title': 'sales_agent1_args', 'type': 'object', 'additionalProperties': False}, on_invoke_tool=<function function_tool.<locals>._create_function_tool.<locals>._on_invoke_tool at 0x110ba9440>, strict_json_schema=True, is_enabled=True), FunctionTool(name='sales_agent2', description='A sales agent that writes witty, engaging cold emails', params_json_schema={'properties': {'input': {'title': 'Input', 'type': 'string'}}, 'required': ['input'], 'title': 'sales_agent2_args', 'type': 'object', 'additionalProperties': False}, on_invoke_tool=<function function_tool.<locals>._create_function_tool.<locals>._on_invoke_tool at 0x110baa020>, strict_json_schema=True, is_enabled=True), FunctionTool(name='sales_agent3', description='A sales agent that writes concise, to the point cold emails', params_json_schema={'properties': {'input': {'title': 'Input', 'type': 'string'}}, 'required': ['input'], 'title': 'sales_agent3_args', 'type': 'object', 'additionalProperties': False}, on_invoke_tool=<function function_tool.<locals>._create_function_tool.<locals>._on_invoke_tool at 0x110baa340>, strict_json_schema=True, is_enabled=True), FunctionTool(name='send_email', description='Send out an email with the given body to all sales prospects', params_json_schema={'properties': {'body': {'title': 'Body', 'type': 'string'}}, 'required': ['body'], 'title': 'send_email_args', 'type': 'object', 'additionalProperties': False}, on_invoke_tool=<function function_tool.<locals>._create_function_tool.<locals>._on_invoke_tool at 0x110bab880>, strict_json_schema=True, is_enabled=True)]\n",
      "[Agent(name='Email Manager', instructions='You are an email formatter and sender. You receive the body of an email to be sent. You first use the subject_writer tool to write a subject for the email, then use the html_converter tool to convert the body to HTML. Finally, you use the send_html_email tool to send the email with the subject and HTML body.', prompt=None, handoff_description='Convert an email to HTML and send it', handoffs=[], model='gpt-4o-mini', model_settings=ModelSettings(temperature=None, top_p=None, frequency_penalty=None, presence_penalty=None, tool_choice=None, parallel_tool_calls=None, truncation=None, max_tokens=None, reasoning=None, metadata=None, store=None, include_usage=None, extra_query=None, extra_body=None, extra_headers=None, extra_args=None), tools=[FunctionTool(name='subject_writer', description='Write a subject for a cold sales email', params_json_schema={'properties': {'input': {'title': 'Input', 'type': 'string'}}, 'required': ['input'], 'title': 'subject_writer_args', 'type': 'object', 'additionalProperties': False}, on_invoke_tool=<function function_tool.<locals>._create_function_tool.<locals>._on_invoke_tool at 0x110906b60>, strict_json_schema=True, is_enabled=True), FunctionTool(name='html_converter', description='Convert a text email body to an HTML email body', params_json_schema={'properties': {'input': {'title': 'Input', 'type': 'string'}}, 'required': ['input'], 'title': 'html_converter_args', 'type': 'object', 'additionalProperties': False}, on_invoke_tool=<function function_tool.<locals>._create_function_tool.<locals>._on_invoke_tool at 0x110bab4c0>, strict_json_schema=True, is_enabled=True), FunctionTool(name='send_html_email', description='Send out an email with the given subject and HTML body to all sales prospects', params_json_schema={'properties': {'subject': {'title': 'Subject', 'type': 'string'}, 'html_body': {'title': 'Html Body', 'type': 'string'}}, 'required': ['subject', 'html_body'], 'title': 'send_html_email_args', 'type': 'object', 'additionalProperties': False}, on_invoke_tool=<function function_tool.<locals>._create_function_tool.<locals>._on_invoke_tool at 0x110ffcb80>, strict_json_schema=True, is_enabled=True)], mcp_servers=[], mcp_config={}, input_guardrails=[], output_guardrails=[], output_type=None, hooks=None, tool_use_behavior='run_llm_again', reset_tool_choice=True)]\n"
     ]
    }
   ],
   "source": [
    "tools = [tool1, tool2, tool3, send_email]\n",
    "handoffs = [emailer_agent]\n",
    "print(tools)\n",
    "print(handoffs)"
   ]
  },
  {
   "cell_type": "code",
   "execution_count": 92,
   "id": "b7d32989",
   "metadata": {},
   "outputs": [],
   "source": [
    "sales_manager_instructions = \"You are a sales manager working for BeansAI. You use the tools given to you to generate cold sales emails. \\\n",
    "You never generate sales emails yourself; you always use the tools. \\\n",
    "You try all 3 sales agent tools at least once before choosing the best one. \\\n",
    "You can use the tools multiple times if you're not satisfied with the results from the first try. \\\n",
    "You select the single best email using your own judgement of which email will be most effective. \\\n",
    "After picking the email, you handoff to the Email Manager agent to format and send the email.\"\n",
    "\n",
    "\n",
    "sales_manager = Agent(\n",
    "    name=\"Sales Manager\",\n",
    "    instructions=sales_manager_instructions,\n",
    "    tools=tools,\n",
    "    handoffs=handoffs,\n",
    "    model=\"gpt-4o-mini\")\n",
    "\n",
    "message = \"Send out a cold sales email addressed to Dear CEO from Alice. Ensure that the email body starts with Dear CEO and is not a mail merge filler field.\"\n",
    "\n",
    "with trace(\"Automated SDR\"):\n",
    "    result = await Runner.run(sales_manager, message)"
   ]
  }
 ],
 "metadata": {
  "kernelspec": {
   "display_name": ".venv",
   "language": "python",
   "name": "python3"
  },
  "language_info": {
   "codemirror_mode": {
    "name": "ipython",
    "version": 3
   },
   "file_extension": ".py",
   "mimetype": "text/x-python",
   "name": "python",
   "nbconvert_exporter": "python",
   "pygments_lexer": "ipython3",
   "version": "3.12.9"
  }
 },
 "nbformat": 4,
 "nbformat_minor": 5
}
